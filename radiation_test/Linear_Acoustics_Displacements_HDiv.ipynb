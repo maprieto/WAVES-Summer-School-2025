{
 "cells": [
  {
   "cell_type": "markdown",
   "metadata": {},
   "source": [
    "# WAVES Summer School 2025 (Gandia)"
   ]
  },
  {
   "cell_type": "markdown",
   "metadata": {},
   "source": [
    "This Jupyter Notebook has been designed to be run in [Google Colab](https://colab.research.google.com/). With this purpose the first cell install [NGSolve](https://ngsolve.org/) related packages in a clean machine (if they have not been previously installed). Typically, this installation takes less than 2 minutes."
   ]
  },
  {
   "cell_type": "code",
   "execution_count": null,
   "metadata": {},
   "outputs": [],
   "source": [
    "# Install NGSolve\n",
    "try:\n",
    "    import ngsolve\n",
    "except ImportError:\n",
    "    !wget \"https://fem-on-colab.github.io/releases/ngsolve-install-release-complex.sh\" -O \"/tmp/ngsolve-install.sh\" && bash \"/tmp/ngsolve-install.sh\"\n",
    "\n",
    "# Install NGSolve special functions\n",
    "try:\n",
    "    import ngsolve_special_functions\n",
    "except ImportError:\n",
    "    !git clone \"https://github.com/NGSolve/ngs-special-functions.git\" && cd ngs-special-functions && mkdir build && cd build && cmake .. && make -j4 && cp ngsolve_special_functions.so /content/radiation_test"
   ]
  },
  {
   "cell_type": "markdown",
   "metadata": {},
   "source": [
    "# Linear Acoustics in the time-harmonic setting: Displacement formulation in $H(\\mathrm{div})$ using Raviart-Thomas elements"
   ]
  },
  {
   "cell_type": "markdown",
   "metadata": {},
   "source": [
    "This notebook illustrates the numerical solution of the wave equation for harmonic excitation using the so called [Finite Element Method](https://jschoeberl.github.io/iFEM/intro.html) (FEM). The method aims at an approximate solution by subdividing the area of interest into smaller parts with simpler geometry, linking these parts together and applying methods from the calculus of variations to solve the problem numerically. The FEM is a well established method for the numerical approximation of the solution of partial differential equations (PDEs). The solutions of PDEs are often known analytically only for rather simple geometries. FEM based simulations allow to gain insights into other more complex cases."
   ]
  },
  {
   "cell_type": "markdown",
   "metadata": {},
   "source": [
    "## Variational Formulation\n",
    "\n",
    "The FEM is based on expressing the partial differential equation (PDE) to be solved in its variational or weak form.\n"
   ]
  },
  {
   "cell_type": "markdown",
   "metadata": {},
   "source": [
    "## Numerical Solution\n",
    "\n",
    "The numerical solution of the variational problem is based on [NGSolve](https://ngsolve.org/), an open-source framework for numerical solution of PDEs.\n",
    "Its high-level Python interface is used in the following to define the problem and compute its solution.\n",
    "The implementation is based on the variational formulation derived above. The definition of the problem in NGsolve is very close to the mathematical formulation of the problem. A function `FEM_displacements(...)` is defined to analyze the convergence beahviour and the optimal strategy: $h$ or $p$-refinement."
   ]
  },
  {
   "cell_type": "code",
   "execution_count": null,
   "metadata": {},
   "outputs": [],
   "source": [
    "# Libraries \n",
    "import time\n",
    "import numpy as np\n",
    "from ngsolve import *\n",
    "from ngsolve.webgui import Draw\n",
    "from netgen.occ import *\n",
    "\n",
    "# Geometry\n",
    "R_int = 1.0\n",
    "R_ext = 2.0\n",
    "\n",
    "# Primary geometric objects\n",
    "square= Rectangle(R_ext, R_ext).Face()\n",
    "circ_int = Circle((0,0), R_int).Face()\n",
    "circ_ext = Circle((0,0), R_ext).Face()\n",
    "\n",
    "# Domain: A quarter of an annular domain\n",
    "domain = square * (circ_ext - circ_int) \n",
    "\n",
    "# Boundary tags\n",
    "tol=1e-1\n",
    "domain.faces.name = \"fluid\"\n",
    "domain.edges.name = \"exterior\"\n",
    "domain.edges.col = (1, 0, 0) # red\n",
    "domain.edges.Min(Y).name = \"horizontal\"\n",
    "domain.edges.Min(Y).col = (1, 0, 1) # magenta\n",
    "domain.edges.Min(X).name = \"vertical\"\n",
    "domain.edges.Min(X).col = (0, 1, 1) # cyan\n",
    "domain.edges[sqrt(X*X+Y*Y)<R_int+tol].name = \"interior\"\n",
    "domain.edges[sqrt(X*X+Y*Y)<R_int+tol].col = (1, 1, 0) # yellow\n",
    "domain.mat(\"fluid\")\n",
    "\n",
    "## Each edge is colored\n",
    "Draw(domain, height=\"3vh\")"
   ]
  },
  {
   "cell_type": "code",
   "execution_count": null,
   "metadata": {},
   "outputs": [],
   "source": [
    "\n",
    "# Define the mesh\n",
    "h_size = 0.3\n",
    "mesh = Mesh(OCCGeometry(domain, dim=2).GenerateMesh(maxh=h_size))\n",
    "mesh.Curve(3)  # Refine the mesh to cubic elements\n",
    "Draw(mesh, height=\"3vh\")"
   ]
  },
  {
   "cell_type": "markdown",
   "metadata": {},
   "source": [
    "Exact solution and boundary data for getting a solution in closed form"
   ]
  },
  {
   "cell_type": "code",
   "execution_count": null,
   "metadata": {},
   "outputs": [],
   "source": [
    "from ngsolve_special_functions import hankel1\n",
    "\n",
    "# Physical parameters\n",
    "f = 100 #500 # Frequency in Hz\n",
    "rho = 1.0 # Density in kg/m^3\n",
    "c = 343.0 # Speed of sound in m/s\n",
    "\n",
    "# Pressure on the interior boundary\n",
    "omega = 2*np.pi*f\n",
    "pex = hankel1(z=omega/c*sqrt(x**2+y**2), v=0) # pressure\n",
    "e_r = CF((x,y))/sqrt(x**2+y**2) # radial unit vector\n",
    "uex = 1.0/rho/omega**2*(-omega/c)*hankel1(z=omega/c*sqrt(x**2+y**2), v=1)*e_r # displacement\n",
    "div_uex = -pex/rho/c**2 # divergence of the displacement\n",
    "\n",
    "# Plot the exact solution\n",
    "Draw(uex[0], mesh, height=\"3vh\", animate_complex=True, settings = {\"Colormap\": {\"ncolors\": 20}})\n",
    "Draw(uex[1], mesh, height=\"3vh\", animate_complex=True, settings = {\"Colormap\": {\"ncolors\": 20}})\n",
    "\n",
    "# Boundary data for the pressure in the interior boundary\n",
    "p_bnd = pex  # CF(pex(mesh(R_int, 0.)))\n",
    "\n",
    "# Boundary data for the displacement in the interior boundary\n",
    "u_bnd = uex  # CF(uex(mesh(R_int, 0.)))\n",
    "\n",
    "# Surface impedance data on the exterior boundary\n",
    "Z_bnd = CF(pex(mesh(R_ext, 0.))/(-1j*omega*uex(mesh(R_ext, 0.))[0])) # pex/(-1j*omega*uex*e_r) \n"
   ]
  },
  {
   "cell_type": "markdown",
   "metadata": {},
   "source": [
    "### Finite element computation using Raviart-Thomas elements"
   ]
  },
  {
   "cell_type": "code",
   "execution_count": null,
   "metadata": {},
   "outputs": [],
   "source": [
    "# Compute the Finite Element approximation\n",
    "def FEM_displacements(mesh, order_FE, f, rho, c, p_bnd, u_bnd, Z_bnd):\n",
    "\n",
    "    # Angular frequency\n",
    "    omega= 2*np.pi*f\n",
    "\n",
    "    # Raviart-Thomas finite element with complex values to approximate the displacement field\n",
    "    V = HDiv(mesh, order=order_FE, RT = True, complex=True, dirichlet = \"horizontal|vertical\")\n",
    "\n",
    "    # Trial and test functions\n",
    "    u, v = V.TnT()\n",
    "\n",
    "    # Normal vector outward to the boundary\n",
    "    normal = specialcf.normal(mesh.dim)\n",
    "\n",
    "    # Define the differential on the integration on the volumes\n",
    "    dF = dx(mesh.Materials(\"fluid\")) # fluid domain\n",
    "\n",
    "    # Define the differential on the integration on the boundary\n",
    "    dI = ds(mesh.Boundaries(\"interior\")) # interior boundary\n",
    "    dE = ds(mesh.Boundaries(\"exterior\")) # exterior boundary\n",
    "\n",
    "    # Variational formulation: Bilinear form\n",
    "    a_bilinear = BilinearForm(V, symmetric=False)\n",
    "\n",
    "    # Contribution in the air and the impedance boundary\n",
    "    a_bilinear += rho*c**2*div(u)*div(v)*dF - omega**2*rho*u*v*dF -1j*omega*Z_bnd*u.Trace()*v.Trace()*dE\n",
    "\n",
    "    # Forma lineal\n",
    "    f_linear = LinearForm(V)\n",
    "\n",
    "    # Contribution of the pressure on the interior part\n",
    "    f_linear += p_bnd*(v.Trace()*normal)*dI\n",
    "\n",
    "    # Assembly the FEM matrices and the right-hand side\n",
    "    a_bilinear.Assemble()\n",
    "    f_linear.Assemble()\n",
    "\n",
    "    # Allocate the solution vector with the prescribed Dirichlet boundary conditions\n",
    "    gfu = GridFunction(V)\n",
    "    gfu.Set(u_bnd, definedon=mesh.Boundaries(\"horizontal|vertical\"))\n",
    "\n",
    "    # Solve the linear system\n",
    "    precond = Preconditioner(a_bilinear,\"direct\") # sparse direct solver (UMFPACK)\n",
    "    solvers.BVP(bf=a_bilinear, lf=f_linear, gf=gfu, pre=precond, print=False)\n",
    "\n",
    "    return gfu, V"
   ]
  },
  {
   "cell_type": "markdown",
   "metadata": {},
   "source": [
    "Function to compute the RMS errors and the errors associated with the acoustic energy of the system"
   ]
  },
  {
   "cell_type": "code",
   "execution_count": null,
   "metadata": {},
   "outputs": [],
   "source": [
    "# Compute the root-mean square (RMS) relative error\n",
    "def compute_error(rho, c, gfu, uex, div_uex, V):\n",
    "\n",
    "    # RMS of the exact solution (pressure)\n",
    "    RMS_p_ex = sqrt(Integrate(rho*omega**2*InnerProduct(uex, uex), V.mesh, order=2*V.globalorder))\n",
    "\n",
    "    # RMS absolute error between the exact and the Finite Element approximation (pressure)\n",
    "    error_RMS_p = sqrt(Integrate(rho*omega**2*InnerProduct(gfu-uex, gfu-uex), V.mesh, order=2*V.globalorder))\n",
    "\n",
    "    # Energy of the exact solution (velocity)\n",
    "    RMS_v_ex = sqrt(Integrate(rho*c**2*InnerProduct(div_uex, div_uex), V.mesh, order=2*V.globalorder))\n",
    "\n",
    "    # Energy of the absolute error between the exact and the Finite Element approximation\n",
    "    error_RMS_v = sqrt(Integrate(rho*c**2*InnerProduct(div(gfu)-div_uex, div(gfu)-div_uex), V.mesh, order=2*V.globalorder))\n",
    "    \n",
    "    # Energy associated to the exact solution\n",
    "    energy_ex = sqrt(RMS_p_ex**2 + RMS_v_ex**2)\n",
    "\n",
    "    # Energy error\n",
    "    error_energy = sqrt(error_RMS_p**2 + error_RMS_v**2)\n",
    "\n",
    "    return error_RMS_p.real/RMS_p_ex.real, error_RMS_v.real/RMS_v_ex.real, error_energy.real/energy_ex.real"
   ]
  },
  {
   "cell_type": "markdown",
   "metadata": {},
   "source": [
    "### Study of convergence\n",
    "\n",
    "Let's check the order of convergence of this finite element discretization computing the error for sucesive refinements of the mesh"
   ]
  },
  {
   "cell_type": "code",
   "execution_count": null,
   "metadata": {},
   "outputs": [],
   "source": [
    "# Finite element order\n",
    "order_FE = np.arange(1, 5)  # Orders from 1 to 4\n",
    "h_size = np.array([0.4, 0.2, 0.1, 0.05])  # Mesh sizes\n",
    "\n",
    "# Compute the Finite Element approximation and the error for different mesh sizes and orders\n",
    "error_RMS_p = np.zeros((len(h_size), len(order_FE)))\n",
    "error_RMS_v = np.zeros((len(h_size), len(order_FE)))\n",
    "error_energy = np.zeros((len(h_size), len(order_FE)))\n",
    "wall_time = np.zeros((len(h_size), len(order_FE)))\n",
    "\n",
    "# Loop over mesh sizes and finite element orders\n",
    "for i, hs in enumerate(h_size):\n",
    "    mesh = Mesh(OCCGeometry(domain, dim=2).GenerateMesh(maxh=hs))\n",
    "    for j, order in enumerate(order_FE):\n",
    "        mesh.Curve(int(order))\n",
    "        start_wall = time.time()\n",
    "        gfu, V = FEM_displacements(mesh, int(order), f, rho, c, p_bnd, u_bnd, Z_bnd)\n",
    "        wall_time[i, j] = time.time() - start_wall\n",
    "        error_RMS_p[i, j], error_RMS_v[i, j], error_energy[i, j] = compute_error(rho, c, gfu, uex, div_uex, V)\n",
    "        # Print the errors\n",
    "        print(f\"Order {order}, Mesh size {hs}: RMS Error (Pressure) = {error_RMS_p[i, j]:.4e}, RMS Error (Velocity) = {error_RMS_v[i, j]:.4e}, Energy Error = {error_energy[i, j]:.4e}\")\n",
    "\n",
    "# Plot last pressure field computed\n",
    "Draw(gfu[0], mesh, height=\"3vh\", animate_complex=True, settings = {\"Colormap\": {\"ncolors\": 20}})\n",
    "Draw(gfu[1], mesh, height=\"3vh\", animate_complex=True, settings = {\"Colormap\": {\"ncolors\": 20}})"
   ]
  },
  {
   "cell_type": "markdown",
   "metadata": {},
   "source": [
    "Compute the order of convergence of the FEM discretizations"
   ]
  },
  {
   "cell_type": "code",
   "execution_count": null,
   "metadata": {},
   "outputs": [],
   "source": [
    "# Get order of convergence for each order_FE\n",
    "for j, order in enumerate(order_FE):\n",
    "    mRMS_p, _ = np.polyfit(np.log(h_size[1:]), np.log(error_RMS_p[1:, j]), 1)\n",
    "    mRMS_v, _ = np.polyfit(np.log(h_size[1:]), np.log(error_RMS_v[1:, j]), 1)\n",
    "    print(f\"Order {order}: RMS Error convergence rate (pressure) = {mRMS_p:.1f}, RMS Error convergence rate (velocity) = {mRMS_v:.1f}\")\n",
    "    mEnergy, _ = np.polyfit(np.log(h_size[1:]), np.log(error_energy[1:, j]), 1)\n",
    "    print(f\"Order {order}: Energy Error convergence rate = {mEnergy:.1f}\")"
   ]
  },
  {
   "cell_type": "markdown",
   "metadata": {},
   "source": [
    "Check the numerical errors and observe the FEM convergence"
   ]
  },
  {
   "cell_type": "code",
   "execution_count": null,
   "metadata": {},
   "outputs": [],
   "source": [
    "# Plot the convergence results with tag the order in the legend\n",
    "import matplotlib.pyplot as plt\n",
    "plt.figure(figsize=(15, 5))\n",
    "plt.subplot(1, 3, 1)\n",
    "plt.loglog(h_size*f/c, 100*error_RMS_p, marker='o', label=[f\"Order {order}\" for order in order_FE])\n",
    "plt.xlabel('h/λ')\n",
    "plt.ylabel('RMS Rel. Error (%)')\n",
    "plt.title('RMS Rel. Error (Pressure) vs h/λ')\n",
    "plt.grid(True)\n",
    "plt.legend()\n",
    "plt.subplot(1, 3, 2)\n",
    "plt.loglog(h_size*f/c, 100*error_RMS_v, marker='o', label=[f\"Order {order}\" for order in order_FE])\n",
    "plt.xlabel('h/λ')\n",
    "plt.ylabel('RMS Rel. Error (%)')\n",
    "plt.title('RMS Rel. Error (Velocity) vs h/λ')\n",
    "plt.grid(True)\n",
    "plt.legend()\n",
    "plt.subplot(1, 3, 3)\n",
    "plt.loglog(h_size*f/c, 100*error_energy, marker='o', label=[f\"Order {order}\" for order in order_FE])\n",
    "plt.xlabel('h/λ')\n",
    "plt.ylabel('Energy Rel. Error (%)')\n",
    "plt.title('Energy Rel. Error vs h/λ')\n",
    "plt.grid(True)\n",
    "plt.legend()\n",
    "plt.tight_layout()\n",
    "plt.show()"
   ]
  },
  {
   "cell_type": "markdown",
   "metadata": {},
   "source": [
    "Checking the optimal strategy: refine the mesh or increasing the FE order?"
   ]
  },
  {
   "cell_type": "code",
   "execution_count": null,
   "metadata": {},
   "outputs": [],
   "source": [
    "# Plot the wall time vs energy relative error with tag the order in the legend\n",
    "plt.figure(figsize=(10, 5))\n",
    "plt.subplot(1, 2, 1)\n",
    "plt.loglog(100*error_energy, wall_time, marker='o', label=[f\"Order {order}\" for order in order_FE])\n",
    "plt.xlabel('Energy Relative Error (%)')\n",
    "plt.ylabel('Wall Time (s)')\n",
    "plt.title('Wall Time vs Energy Relative Error')\n",
    "plt.grid(True)\n",
    "plt.legend()\n",
    "plt.subplot(1, 2, 2)\n",
    "plt.loglog(100*error_energy.T, wall_time.T, marker='o', label=[f\"h={hs}\" for hs in h_size])\n",
    "plt.xlabel('Energy Relative Error (%)')\n",
    "plt.ylabel('Wall Time (s)')\n",
    "plt.title('Wall Time vs Energy Relative Error')\n",
    "plt.grid(True)\n",
    "plt.legend()\n",
    "plt.tight_layout()\n",
    "plt.show()"
   ]
  },
  {
   "cell_type": "markdown",
   "metadata": {},
   "source": [
    "Write to a csv file the wall time and the RMS and energy errors"
   ]
  },
  {
   "cell_type": "code",
   "execution_count": null,
   "metadata": {},
   "outputs": [],
   "source": [
    "# Write to a CSV file the errors computed with the RMS and energy norms\n",
    "import pandas as pd\n",
    "# Create a DataFrame with the errors and wall time\n",
    "df_errors = pd.DataFrame({\n",
    "    'Mesh Size (h)': np.tile(h_size, len(order_FE)),\n",
    "    'Order': np.repeat(order_FE, len(h_size)),\n",
    "    'RMS Error pressure': error_RMS_p.flatten(),\n",
    "    'RMS Error velocity': error_RMS_v.flatten(),\n",
    "    'Energy Error': error_energy.flatten(),\n",
    "    'Wall Time (s)': wall_time.flatten()\n",
    "})\n",
    "# Save the DataFrame to a CSV file\n",
    "df_errors.to_csv('HDiv-velocity.csv', index=False)\n"
   ]
  },
  {
   "cell_type": "markdown",
   "metadata": {},
   "source": [
    "**Copyright**\n",
    "\n",
    "This notebook is provided as [Open Educational Resource](https://en.wikipedia.org/wiki/Open_educational_resources). Feel free to use the notebook for your own purposes. The text is licensed under [Creative Commons Attribution 4.0](https://creativecommons.org/licenses/by/4.0/), the code of the IPython examples under the [MIT license](https://opensource.org/licenses/MIT)."
   ]
  },
  {
   "cell_type": "code",
   "execution_count": null,
   "metadata": {},
   "outputs": [],
   "source": []
  }
 ],
 "metadata": {
  "kernelspec": {
   "display_name": "Python 3",
   "language": "python",
   "name": "python3"
  },
  "language_info": {
   "codemirror_mode": {
    "name": "ipython",
    "version": 3
   },
   "file_extension": ".py",
   "mimetype": "text/x-python",
   "name": "python",
   "nbconvert_exporter": "python",
   "pygments_lexer": "ipython3",
   "version": "3.12.3"
  }
 },
 "nbformat": 4,
 "nbformat_minor": 2
}
