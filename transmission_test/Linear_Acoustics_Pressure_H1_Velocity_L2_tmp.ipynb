{
 "cells": [
  {
   "cell_type": "markdown",
   "metadata": {},
   "source": [
    "# WAVES Summer School 2025 (Gandia)"
   ]
  },
  {
   "cell_type": "markdown",
   "metadata": {},
   "source": [
    "## Lienar Acoustics in the time-harmonic setting: Pressure formulation"
   ]
  },
  {
   "cell_type": "markdown",
   "metadata": {},
   "source": [
    "This notebook illustrates the numerical solution of the wave equation for harmonic excitation using the so called [Finite Element Method](https://en.wikipedia.org/wiki/Finite_element_method) (FEM). The method aims at an approximate solution by subdividing the area of interest into smaller parts with simpler geometry, linking these parts together and applying methods from the calculus of variations to solve the problem numerically. The FEM is a well established method for the numerical approximation of the solution of partial differential equations (PDEs). The solutions of PDEs are often known analytically only for rather simple geometries. FEM based simulations allow to gain insights into other more complex cases."
   ]
  },
  {
   "cell_type": "markdown",
   "metadata": {},
   "source": [
    "## Problem Statement\n",
    "\n",
    "The inhomogeneous linear [wave equation](https://en.wikipedia.org/wiki/Wave_equation) is given as\n",
    "\n",
    "\\begin{equation}\n",
    "\\Delta p(\\mathbf{x}, t) - \\frac{1}{c^2} \\frac{\\partial^2}{\\partial t^2} p(\\mathbf{x}, t) = - q(\\mathbf{x}, t) ,\n",
    "\\end{equation}\n",
    "\n",
    "where $p(\\mathbf{x}, t)$ denotes the sound pressure at position $\\mathbf{x}$, $c$ the speed of sound and $q(\\mathbf{x}, t)$ the inhomogeneity.\n",
    "For an harmonic excitation $q(\\mathbf{x}, t) = \\Re \\{ Q(\\mathbf{x}, \\omega) \\mathrm{e}^{\\mathrm{j} \\omega t} \\}$ with frequency $\\omega = 2 \\pi f$ we choose the Ansatz $p(\\mathbf{x}, t) = \\Re \\{ P(\\mathbf{x}, \\omega) \\mathrm{e}^{\\mathrm{j} \\omega t} \\}$ for the sound pressure.\n",
    "Introduction of the complex quantities into the wave equation yields\n",
    "\n",
    "\\begin{equation}\n",
    "\\Delta P(\\mathbf{x}, \\omega) \\mathrm{e}^{\\mathrm{j} \\omega t} + \\frac{\\omega^2}{c^2} P(\\mathbf{x}, \\omega) \\mathrm{e}^{\\mathrm{j} \\omega t} = - Q(\\mathbf{x}, \\omega) \\mathrm{e}^{\\mathrm{j} \\omega t} ,\n",
    "\\end{equation}\n",
    "\n",
    "and canceling out the $\\mathrm{e}^{\\mathrm{j} \\omega t}$ terms yields the [Helmholtz equation](https://en.wikipedia.org/wiki/Helmholtz_equation)\n",
    "\n",
    "\\begin{equation}\n",
    "\\Delta P(\\mathbf{x}, \\omega) + \\frac{\\omega^2}{c^2} P(\\mathbf{x}, \\omega) = - Q(\\mathbf{x}, \\omega) .\n",
    "\\end{equation}\n",
    "\n",
    "We aim for a numerical solution of the Helmholtz equation on the domain $V$ with respect to the homogeneous Dirichlet boundary condition\n",
    "\n",
    "\\begin{equation}\n",
    "P(\\mathbf{x}, \\omega) = P_{D} \\qquad \\text{for } x \\in \\partial V \n",
    "\\end{equation}\n",
    "\n",
    "where $P_{D}$ is the Dirichlet data."
   ]
  },
  {
   "cell_type": "markdown",
   "metadata": {},
   "source": [
    "## Variational Formulation\n",
    "\n",
    "The FEM is based on expressing the partial differential equation (PDE) to be solved in its [variational](https://en.wikipedia.org/wiki/Calculus_of_variations) or weak form.\n",
    "The first step towards this formulation is to multiply the Helmholtz equation by the test function $V(\\mathbf{x}, \\omega)$\n",
    "\n",
    "\\begin{equation}\n",
    "\\Delta P(\\mathbf{x}, \\omega) \\cdot V(\\mathbf{x}, \\omega)  + \\frac{\\omega^2}{c^2} P(\\mathbf{x}, \\omega) \\cdot V(\\mathbf{x}, \\omega) = - Q(\\mathbf{x}, \\omega) \\cdot V(\\mathbf{x}, \\omega) ,\n",
    "\\end{equation}\n",
    "\n",
    "followed by integration over the domain $V$\n",
    "\n",
    "\\begin{equation}\n",
    "\\int_V \\Delta P(\\mathbf{x}, \\omega) \\cdot V(\\mathbf{x}, \\omega) \\mathrm{d}x  + \\frac{\\omega^2}{c^2} \\int_V P(\\mathbf{x}, \\omega) \\cdot V(\\mathbf{x}, \\omega) \\mathrm{d}x = - \\int_V Q(\\mathbf{x}, \\omega) \\cdot V(\\mathbf{x}, \\omega) \\mathrm{d}x ,\n",
    "\\end{equation}\n",
    "\n",
    "where $\\mathrm{d}x$ denotes a suitably chosen differential element for integration.\n",
    "Application of [Green's first identity](https://en.wikipedia.org/wiki/Green%27s_identities) yields\n",
    "\n",
    "\\begin{equation}\n",
    "{-} \\int_V \\nabla P(\\mathbf{x}, \\omega) \\cdot \\nabla V(\\mathbf{x}, \\omega) \\mathrm{d}x  + \\int_{\\partial V} V(\\mathbf{x}, \\omega) \\frac{\\partial}{\\partial n}  P(\\mathbf{x}, \\omega) \\mathrm{d}s + \\frac{\\omega^2}{c^2} \\int_V P(\\mathbf{x}, \\omega) V(\\mathbf{x}, \\omega) \\mathrm{d}x = - \\int_V Q(\\mathbf{x}, \\omega) V(\\mathbf{x}, \\omega) \\mathrm{d}x .\n",
    "\\end{equation}\n",
    "\n",
    "This way the differential order of the first integral is lowered which is advisable for application of the FEM.\n",
    "The second integral vanishes as \n",
    "\n",
    "* the variation formulation requires $V(\\mathbf{x}, \\omega) = 0$ on $\\partial V$ where $P(\\mathbf{x}, \\omega)$ is known - here by the pure Dirichlet boundary condition \n",
    "\n",
    "This results in the variational/weak formulation of the Helmholtz equation\n",
    "\n",
    "\\begin{equation}\n",
    "{-} \\int_V \\nabla P(\\mathbf{x}, \\omega) \\cdot \\nabla V(\\mathbf{x}, \\omega) \\mathrm{d}x  + \\frac{\\omega^2}{c^2} \\int_V P(\\mathbf{x}, \\omega) V(\\mathbf{x}, \\omega) \\mathrm{d}x = - \\int_V Q(\\mathbf{x}, \\omega) V(\\mathbf{x}, \\omega) \\mathrm{d}x .\n",
    "\\end{equation}\n",
    "\n",
    "It is common to express the integral equation above in terms of the bilinear $a(P, V)$ and linear $L(V)$ forms \n",
    "\n",
    "\\begin{equation}\n",
    "a(P, V) = \\frac{\\omega^2}{c^2} \\int_V P(\\mathbf{x}, \\omega) V(\\mathbf{x}, \\omega) \\mathrm{d}x - \\int_V \\nabla P(\\mathbf{x}, \\omega) \\cdot \\nabla V(\\mathbf{x}, \\omega) \\mathrm{d}x ,\n",
    "\\end{equation}\n",
    "\n",
    "\\begin{equation}\n",
    "L(V) = - \\int_V Q(\\mathbf{x}, \\omega) V(\\mathbf{x}, \\omega) \\mathrm{d}x ,\n",
    "\\end{equation}\n",
    "\n",
    "where\n",
    "\n",
    "\\begin{equation}\n",
    "a(P, V) = L(V) .\n",
    "\\end{equation}"
   ]
  },
  {
   "cell_type": "markdown",
   "metadata": {},
   "source": [
    "## Numerical Solution\n",
    "\n",
    "The numerical solution of the variational problem is based on [FEniCS](https://fenicsproject.org/), an open-source framework for numerical solution of PDEs.\n",
    "Its high-level Python interface `dolfin` is used in the following to define the problem and compute its solution.\n",
    "The implementation is based on the variational formulation derived above.\n",
    "It is common in the FEM to denote the solution of the problem by $u$ and the test function by $v$.\n",
    "The definition of the problem in FEniCS is very close to the mathematical formulation of the problem.\n",
    "We limit ourselves to real-valued $P(\\mathbf{x}, \\omega)$ due to the assumption of Dirichlet real data.\n",
    "\n",
    "A function is defined for this purpose, accompanied by a plotting routine for the resulting sound field."
   ]
  },
  {
   "cell_type": "code",
   "execution_count": 11,
   "metadata": {},
   "outputs": [
    {
     "data": {
      "application/vnd.jupyter.widget-view+json": {
       "model_id": "c3e44f502d9343bdbd073f7ad25942f8",
       "version_major": 2,
       "version_minor": 0
      },
      "text/plain": [
       "WebGuiWidget(layout=Layout(height='3vh', width='100%'), value={'ngsolve_version': 'Netgen x.x', 'mesh_dim': 3,…"
      ]
     },
     "metadata": {},
     "output_type": "display_data"
    },
    {
     "data": {
      "text/plain": [
       "BaseWebGuiScene"
      ]
     },
     "execution_count": 11,
     "metadata": {},
     "output_type": "execute_result"
    }
   ],
   "source": [
    "# Libraries \n",
    "import time\n",
    "import numpy as np\n",
    "from ngsolve import *\n",
    "from ngsolve.webgui import Draw\n",
    "from netgen.occ import *\n",
    "\n",
    "# Geometry\n",
    "R_int = 1.0\n",
    "R_ext = 2.0\n",
    "\n",
    "# Primary geometric objects\n",
    "square= Rectangle(R_ext, R_ext).Face()\n",
    "circ_int = Circle((0,0), R_int).Face()\n",
    "circ_ext = Circle((0,0), R_ext).Face()\n",
    "\n",
    "# Domain: A quarter of an annular domain\n",
    "domain = square * (circ_ext - circ_int) \n",
    "\n",
    "# Boundary tags\n",
    "tol=1e-6\n",
    "domain.faces.name = \"fluid\"\n",
    "domain.edges.name = \"exterior\"\n",
    "domain.edges.col = (1, 0, 0) # red\n",
    "domain.edges.Min(Y).name = \"horizontal\"\n",
    "domain.edges.Min(Y).col = (1, 0, 1) # magenta\n",
    "domain.edges.Min(X).name = \"vertical\"\n",
    "domain.edges.Min(X).col = (0, 1, 1) # cyan\n",
    "domain.edges[sqrt(X*X+Y*Y)<R_int+tol].name = \"interior\"\n",
    "domain.edges[sqrt(X*X+Y*Y)<R_int+tol].col = (1, 1, 0) # yellow\n",
    "domain.mat(\"fluid\")\n",
    "\n",
    "# wp = WorkPlane()\n",
    "# wp.MoveTo(R_int,0).Line(R_ext-R_int).Rotate(135).Line(np.sqrt(2)*R_ext).Rotate(135).Line(R_ext-R_int).Rotate(45).Line(np.sqrt(2)*R_int)\n",
    "# domain = wp.Face()\n",
    "\n",
    "# # Boundary tags\n",
    "# tol=1e-6\n",
    "# domain.faces.name = \"fluid\"\n",
    "# domain.edges.name = \"exterior\"\n",
    "# domain.edges.col = (1, 0, 0) # red\n",
    "# domain.edges.Min(Y).name = \"horizontal\"\n",
    "# domain.edges.Min(Y).col = (1, 0, 1) # magenta\n",
    "# domain.edges.Min(X).name = \"vertical\"\n",
    "# domain.edges.Min(X).col = (0, 1, 1) # cyan\n",
    "# domain.edges[X+Y<R_int+tol].name = \"interior\"\n",
    "# domain.edges[X+Y<R_int+tol].col = (1, 1, 0) # yellow\n",
    "# domain.mat(\"fluid\")\n",
    "\n",
    "## Each edge is colored\n",
    "Draw(domain, height=\"3vh\")"
   ]
  },
  {
   "cell_type": "code",
   "execution_count": 12,
   "metadata": {},
   "outputs": [
    {
     "data": {
      "application/vnd.jupyter.widget-view+json": {
       "model_id": "7c5e48c1080444fa86646034b17d9e69",
       "version_major": 2,
       "version_minor": 0
      },
      "text/plain": [
       "WebGuiWidget(layout=Layout(height='3vh', width='100%'), value={'gui_settings': {}, 'ngsolve_version': '6.2.250…"
      ]
     },
     "metadata": {},
     "output_type": "display_data"
    },
    {
     "data": {
      "text/plain": [
       "BaseWebGuiScene"
      ]
     },
     "execution_count": 12,
     "metadata": {},
     "output_type": "execute_result"
    }
   ],
   "source": [
    "\n",
    "# Define the mesh\n",
    "h_size = 0.3\n",
    "mesh = Mesh(OCCGeometry(domain, dim=2).GenerateMesh(maxh=h_size))\n",
    "mesh.Curve(2)\n",
    "Draw(mesh, height=\"3vh\")"
   ]
  },
  {
   "cell_type": "markdown",
   "metadata": {},
   "source": [
    "Exact solution and boundary data for getting a solution in closed form"
   ]
  },
  {
   "cell_type": "code",
   "execution_count": 13,
   "metadata": {},
   "outputs": [
    {
     "data": {
      "application/vnd.jupyter.widget-view+json": {
       "model_id": "0c2edb6947cf426bb6d881c1a5f29c31",
       "version_major": 2,
       "version_minor": 0
      },
      "text/plain": [
       "WebGuiWidget(layout=Layout(height='3vh', width='100%'), value={'gui_settings': {'Complex': {'phase': 0.0, 'spe…"
      ]
     },
     "metadata": {},
     "output_type": "display_data"
    }
   ],
   "source": [
    "from ngsolve_special_functions import hankel1\n",
    "\n",
    "# Physical parameters\n",
    "f = 250 # Frequency in Hz\n",
    "rho = 1.0 # Density in kg/m^3\n",
    "c = 343.0 # Speed of sound in m/s\n",
    "\n",
    "# Pressure on the interior boundary\n",
    "omega = 2*np.pi*f\n",
    "pex = hankel1(z=omega/c*sqrt(x**2+y**2), v=0) # pressure\n",
    "e_r = CF((x,y))/sqrt(x**2+y**2) # radial unit vector\n",
    "vex = 1.0/rho/(1j*omega)*(-omega/c)*hankel1(z=omega/c*sqrt(x**2+y**2), v=1)*e_r # radial velocity\n",
    "\n",
    "# Plot the exact solution\n",
    "Draw(pex, mesh, height=\"3vh\", animate_complex=True)\n",
    "\n",
    "# Boundary data for the pressure in the interior boundary\n",
    "p_bnd = pex  # CF(pex(mesh(R_int, 0.)))\n",
    "\n",
    "# Boundary data for the displacement in the interior boundary\n",
    "v_bnd = vex  # CF(uex(mesh(R_int, 0.)))\n",
    "\n",
    "# Radial surface admittance data on the exterior boundary\n",
    "Y_bnd = (vex*e_r)/pex # CF(vex(mesh(R_ext, 0.))[0])/CF(pex(mesh(R_ext, 0.)))"
   ]
  },
  {
   "cell_type": "markdown",
   "metadata": {},
   "source": [
    "### Finite element computation using a pressure formulation using Lagrange elements"
   ]
  },
  {
   "cell_type": "code",
   "execution_count": 14,
   "metadata": {},
   "outputs": [],
   "source": [
    "# Compute the Finite Element approximation\n",
    "def FEM_mixed(mesh, order_FE, f, rho, c, p_bnd, v_bnd, Y_bnd):\n",
    "\n",
    "    # Angular frequency\n",
    "    omega= 2*np.pi*f\n",
    "\n",
    "    # Lagrange finite elements with complex values for the pressure field\n",
    "    Q = H1(mesh, order=order_FE, complex=True, dirichlet = \"interior\")\n",
    "\n",
    "    # Raviart-Thomas finite element with complex values for the velocity field\n",
    "    V = VectorL2(mesh, order=order_FE-1, complex=True)\n",
    "\n",
    "    # Mixed finite element space\n",
    "    W = Q * V\n",
    "\n",
    "    # Trial and test functions\n",
    "    (p, v), (q, w) = W.TnT()\n",
    "\n",
    "    # Normal vector outward to the boundary\n",
    "    normal = specialcf.normal(mesh.dim)\n",
    "\n",
    "    # Define the differential on the integration on the volumes\n",
    "    dF = dx(mesh.Materials(\"fluid\")) # fluid domain\n",
    "\n",
    "    # Define the differential on the integration on the boundary\n",
    "    dL = ds(mesh.Boundaries(\"horizontal|vertical\")) # lateral boundary\n",
    "    dE = ds(mesh.Boundaries(\"exterior\")) # exterior boundary\n",
    "\n",
    "    # Variational formulation: Bilinear form\n",
    "    a_bilinear = BilinearForm(W, symmetric=False)\n",
    "\n",
    "    # Contribution in the air for motion equation and the impedance boundary\n",
    "    a_bilinear += -1j*omega*rho*v*w*dF + grad(p)*w*dF\n",
    "\n",
    "    # Contribution in the fluid for the compressibility equation\n",
    "    a_bilinear += -1j*omega/(rho*c**2)*p*q*dF - v*grad(q)*dF + Y_bnd*p*q*dE\n",
    "\n",
    "    # Forma lineal\n",
    "    f_linear = LinearForm(W)\n",
    "\n",
    "    # Contribution of the pressure on the computational domain\n",
    "    f_linear += (v_bnd*normal)*q*dL\n",
    "\n",
    "    # Assembly the FEM matrices and the right-hand side\n",
    "    a_bilinear.Assemble()\n",
    "    f_linear.Assemble()\n",
    "\n",
    "    # Allocate the solution vector with the prescribed Dirichlet boundary conditions\n",
    "    gfpv = GridFunction(W)\n",
    "    gfpv.components[0].Set(p_bnd, definedon=mesh.Boundaries(\"interior\")) # Dirichlet condition for the normal velocity\n",
    "\n",
    "    # Solve the linear system\n",
    "    precond = Preconditioner(a_bilinear,\"direct\") # sparse direct solver (UMFPACK)\n",
    "    solvers.BVP(bf=a_bilinear, lf=f_linear, gf=gfpv, pre=precond, print=False)\n",
    "\n",
    "    return gfpv, W"
   ]
  },
  {
   "cell_type": "markdown",
   "metadata": {},
   "source": [
    "Function to compute the RMS errors and the errors associated with the acoustic energy of the system"
   ]
  },
  {
   "cell_type": "code",
   "execution_count": 15,
   "metadata": {},
   "outputs": [],
   "source": [
    "# Compute the root-mean square (RMS) relative error\n",
    "def compute_error(gfpv, pex, vex, W):\n",
    "\n",
    "    # Get the components of the mixed finite element space\n",
    "    Q, V = W.components\n",
    "\n",
    "    # Get the interpolated exact pressure solution on the mesh\n",
    "    gfp_ex = GridFunction(Q)\n",
    "    gfp_ex.Set(pex)\n",
    "\n",
    "    # Get the interpolated exact velocity solution on the mesh\n",
    "    gfv_ex = GridFunction(V)\n",
    "    gfv_ex.Set(vex)\n",
    "\n",
    "    # Get the computed pressure and velocity solutions\n",
    "    gfp, gfv = gfpv.components\n",
    "\n",
    "    # RMS of the exact solution\n",
    "    RMS_p_ex = sqrt(Integrate(1./(rho*c**2)*InnerProduct(gfp_ex, gfp_ex), Q.mesh, order=2*Q.globalorder))\n",
    "\n",
    "    # RMS absolute error between the exact and the Finite Element approximation\n",
    "    error_RMS_p = sqrt(Integrate(1./(rho*c**2)*InnerProduct(gfp-gfp_ex, gfp-gfp_ex), Q.mesh, order=2*Q.globalorder))\n",
    "\n",
    "    # RMS of the exact solution\n",
    "    RMS_v_ex = sqrt(Integrate(rho*InnerProduct(gfv_ex, gfv_ex), V.mesh, order=2*V.globalorder))\n",
    "\n",
    "    # RMS absolute error between the exact and the Finite Element approximation\n",
    "    error_RMS_v = sqrt(Integrate(rho*InnerProduct(gfv-gfv_ex, gfv-gfv_ex), V.mesh, order=2*V.globalorder))\n",
    "\n",
    "    # Energy associated to the exact solution\n",
    "    energy_ex = sqrt(RMS_p_ex**2 + RMS_v_ex**2)\n",
    "\n",
    "    # Energy error\n",
    "    error_energy = sqrt(error_RMS_p**2 + error_RMS_v**2)\n",
    "\n",
    "    return error_RMS_p.real/RMS_p_ex.real, error_RMS_v.real/RMS_v_ex.real, error_energy.real/energy_ex.real"
   ]
  },
  {
   "cell_type": "markdown",
   "metadata": {},
   "source": [
    "### Study of convergence\n",
    "\n",
    "Let's check the order of convergence of this finite element discretization computing the error for sucesive refinements of the mesh"
   ]
  },
  {
   "cell_type": "code",
   "execution_count": 16,
   "metadata": {},
   "outputs": [
    {
     "name": "stdout",
     "output_type": "stream",
     "text": [
      "Order 1, Mesh size 0.4: RMS Error (Pressure) = 2.2184e-01, RMS Error (Velocity) = 3.2213e-01, Energy Error = 2.7924e-01\n",
      "Order 2, Mesh size 0.4: RMS Error (Pressure) = 2.3804e-02, RMS Error (Velocity) = 1.3481e-01, Energy Error = 9.6661e-02\n",
      "Order 3, Mesh size 0.4: RMS Error (Pressure) = 3.2055e-03, RMS Error (Velocity) = 5.8675e-03, Energy Error = 4.7340e-03\n",
      "Order 4, Mesh size 0.4: RMS Error (Pressure) = 3.2711e-04, RMS Error (Velocity) = 7.1100e-04, Energy Error = 5.5447e-04\n",
      "Order 1, Mesh size 0.2: RMS Error (Pressure) = 1.0916e-01, RMS Error (Velocity) = 1.7801e-01, Energy Error = 1.4809e-01\n",
      "Order 2, Mesh size 0.2: RMS Error (Pressure) = 3.4502e-03, RMS Error (Velocity) = 4.3886e-02, Energy Error = 3.1194e-02\n",
      "Order 3, Mesh size 0.2: RMS Error (Pressure) = 2.7568e-04, RMS Error (Velocity) = 1.0651e-03, Energy Error = 7.7991e-04\n",
      "Order 4, Mesh size 0.2: RMS Error (Pressure) = 2.0112e-05, RMS Error (Velocity) = 7.1152e-05, Energy Error = 5.2412e-05\n",
      "Order 1, Mesh size 0.1: RMS Error (Pressure) = 2.8214e-02, RMS Error (Velocity) = 7.4073e-02, Energy Error = 5.6177e-02\n",
      "Order 2, Mesh size 0.1: RMS Error (Pressure) = 2.3271e-04, RMS Error (Velocity) = 9.9283e-03, Energy Error = 7.0422e-03\n",
      "Order 3, Mesh size 0.1: RMS Error (Pressure) = 1.2407e-05, RMS Error (Velocity) = 1.1511e-04, Energy Error = 8.2094e-05\n",
      "Order 4, Mesh size 0.1: RMS Error (Pressure) = 4.6946e-07, RMS Error (Velocity) = 3.6240e-06, Energy Error = 2.5912e-06\n",
      "Order 1, Mesh size 0.05: RMS Error (Pressure) = 7.2063e-03, RMS Error (Velocity) = 3.5201e-02, Energy Error = 2.5475e-02\n",
      "Order 2, Mesh size 0.05: RMS Error (Pressure) = 1.8319e-05, RMS Error (Velocity) = 2.4864e-03, Energy Error = 1.7633e-03\n",
      "Order 3, Mesh size 0.05: RMS Error (Pressure) = 7.1498e-07, RMS Error (Velocity) = 1.4059e-05, Energy Error = 9.9824e-06\n",
      "Order 4, Mesh size 0.05: RMS Error (Pressure) = 1.4180e-08, RMS Error (Velocity) = 2.2178e-07, Energy Error = 1.5759e-07\n",
      "Order 1, Mesh size 0.025: RMS Error (Pressure) = 1.7289e-03, RMS Error (Velocity) = 1.7192e-02, Energy Error = 1.2252e-02\n",
      "Order 2, Mesh size 0.025: RMS Error (Pressure) = 1.4130e-06, RMS Error (Velocity) = 6.0044e-04, Energy Error = 4.2580e-04\n",
      "Order 3, Mesh size 0.025: RMS Error (Pressure) = 3.9444e-08, RMS Error (Velocity) = 1.6532e-06, Energy Error = 1.1727e-06\n",
      "Order 4, Mesh size 0.025: RMS Error (Pressure) = 3.7974e-10, RMS Error (Velocity) = 1.2575e-08, Energy Error = 8.9212e-09\n"
     ]
    },
    {
     "data": {
      "application/vnd.jupyter.widget-view+json": {
       "model_id": "891e03461aa34976b9a97f330e2bb921",
       "version_major": 2,
       "version_minor": 0
      },
      "text/plain": [
       "WebGuiWidget(layout=Layout(height='3vh', width='100%'), value={'gui_settings': {'Complex': {'phase': 0.0, 'spe…"
      ]
     },
     "metadata": {},
     "output_type": "display_data"
    },
    {
     "data": {
      "application/vnd.jupyter.widget-view+json": {
       "model_id": "a3668ec0b7a645d7b59b24d397bcbc68",
       "version_major": 2,
       "version_minor": 0
      },
      "text/plain": [
       "WebGuiWidget(layout=Layout(height='3vh', width='100%'), value={'gui_settings': {'Complex': {'phase': 0.0, 'spe…"
      ]
     },
     "metadata": {},
     "output_type": "display_data"
    },
    {
     "data": {
      "text/plain": [
       "BaseWebGuiScene"
      ]
     },
     "execution_count": 16,
     "metadata": {},
     "output_type": "execute_result"
    }
   ],
   "source": [
    "# Finite element order\n",
    "order_FE = np.arange(1, 5)  # Orders from 1 to 4\n",
    "h_size = np.array([0.4, 0.2, 0.1, 0.05, 0.025])  # Mesh sizes\n",
    "\n",
    "# Compute the Finite Element approximation and the error for different mesh sizes and orders\n",
    "error_RMS_p = np.zeros((len(h_size), len(order_FE)))\n",
    "error_RMS_v = np.zeros((len(h_size), len(order_FE)))\n",
    "error_energy = np.zeros((len(h_size), len(order_FE)))\n",
    "wall_time = np.zeros((len(h_size), len(order_FE)))\n",
    "\n",
    "# Loop over mesh sizes and finite element orders\n",
    "for i, hs in enumerate(h_size):\n",
    "    mesh = Mesh(OCCGeometry(domain, dim=2).GenerateMesh(maxh=hs))\n",
    "    for j, order in enumerate(order_FE):\n",
    "        mesh.Curve(int(order))\n",
    "        start_wall = time.time()\n",
    "        gfpv, W = FEM_mixed(mesh, int(order), f, rho, c, p_bnd, v_bnd, Y_bnd)\n",
    "        wall_time[i, j] = time.time() - start_wall\n",
    "        error_RMS_p[i, j], error_RMS_v[i, j], error_energy[i, j] = compute_error(gfpv, pex, vex, W)\n",
    "        # Print the errors\n",
    "        print(f\"Order {order}, Mesh size {hs}: RMS Error (Pressure) = {error_RMS_p[i, j]:.4e}, RMS Error (Velocity) = {error_RMS_v[i, j]:.4e}, Energy Error = {error_energy[i, j]:.4e}\")\n",
    "\n",
    "# Plot last pressure field computed\n",
    "gfp, gfv = gfpv.components\n",
    "# Plot the computed pressure field\n",
    "Draw(gfp, mesh, height=\"3vh\", animate_complex=True)\n",
    "# Plot the computed velocity field\n",
    "Draw(gfv[0], mesh, height=\"3vh\", animate_complex=True)"
   ]
  },
  {
   "cell_type": "markdown",
   "metadata": {},
   "source": [
    "Compute the order of convergence of the FEM discretizations"
   ]
  },
  {
   "cell_type": "code",
   "execution_count": 17,
   "metadata": {},
   "outputs": [
    {
     "name": "stdout",
     "output_type": "stream",
     "text": [
      "Order 1: RMS Error convergence rate (pressure) = 2.0, RMS Error convergence rate (velocity) = 1.1\n",
      "Order 1: Energy Error convergence rate = 1.2\n",
      "Order 2: RMS Error convergence rate (pressure) = 3.7, RMS Error convergence rate (velocity) = 2.1\n",
      "Order 2: Energy Error convergence rate = 2.1\n",
      "Order 3: RMS Error convergence rate (pressure) = 4.2, RMS Error convergence rate (velocity) = 3.1\n",
      "Order 3: Energy Error convergence rate = 3.1\n",
      "Order 4: RMS Error convergence rate (pressure) = 5.2, RMS Error convergence rate (velocity) = 4.1\n",
      "Order 4: Energy Error convergence rate = 4.2\n"
     ]
    }
   ],
   "source": [
    "# Get order of convergence for each order_FE\n",
    "for j, order in enumerate(order_FE):\n",
    "    mRMS_p, _ = np.polyfit(np.log(h_size[1:]), np.log(error_RMS_p[1:, j]), 1)\n",
    "    mRMS_v, _ = np.polyfit(np.log(h_size[1:]), np.log(error_RMS_v[1:, j]), 1)\n",
    "    print(f\"Order {order}: RMS Error convergence rate (pressure) = {mRMS_p:.1f}, RMS Error convergence rate (velocity) = {mRMS_v:.1f}\")\n",
    "    mEnergy, _ = np.polyfit(np.log(h_size[1:]), np.log(error_energy[1:, j]), 1)\n",
    "    print(f\"Order {order}: Energy Error convergence rate = {mEnergy:.1f}\")"
   ]
  },
  {
   "cell_type": "markdown",
   "metadata": {},
   "source": [
    "Check the numerical errors and observe the FEM convergence"
   ]
  },
  {
   "cell_type": "code",
   "execution_count": null,
   "metadata": {},
   "outputs": [],
   "source": [
    "# Plot the convergence results with tag the order in the legend\n",
    "import matplotlib.pyplot as plt\n",
    "plt.figure(figsize=(15, 5))\n",
    "plt.subplot(1, 3, 1)\n",
    "plt.loglog(h_size*f/c, 100*error_RMS_p, marker='o', label=[f\"Order {order}\" for order in order_FE])\n",
    "plt.xlabel('h/λ')\n",
    "plt.ylabel('RMS Rel. Error (%)')\n",
    "plt.title('RMS Rel. Error (Pressure) vs h/λ')\n",
    "plt.grid(True)\n",
    "plt.legend()\n",
    "plt.subplot(1, 3, 2)\n",
    "plt.loglog(h_size*f/c, 100*error_RMS_v, marker='o', label=[f\"Order {order}\" for order in order_FE])\n",
    "plt.xlabel('h/λ')\n",
    "plt.ylabel('RMS Rel. Error (%)')\n",
    "plt.title('RMS Rel. Error (Velocity) vs h/λ')\n",
    "plt.grid(True)\n",
    "plt.legend()\n",
    "plt.subplot(1, 3, 3)\n",
    "plt.loglog(h_size*f/c, 100*error_energy, marker='o', label=[f\"Order {order}\" for order in order_FE])\n",
    "plt.xlabel('h/λ')\n",
    "plt.ylabel('Energy Rel. Error (%)')\n",
    "plt.title('Energy Rel. Error vs h/λ')\n",
    "plt.grid(True)\n",
    "plt.legend()\n",
    "plt.tight_layout()\n",
    "plt.show()\n",
    "\n"
   ]
  },
  {
   "cell_type": "markdown",
   "metadata": {},
   "source": [
    "Checking the optimal strategy: refine the mesh or increasing the FE order?"
   ]
  },
  {
   "cell_type": "code",
   "execution_count": null,
   "metadata": {},
   "outputs": [],
   "source": [
    "# Plot the wall time vs energy relative error with tag the order in the legend\n",
    "plt.figure(figsize=(10, 5))\n",
    "plt.subplot(1, 2, 1)\n",
    "plt.loglog(100*error_energy, wall_time, marker='o', label=[f\"Order {order}\" for order in order_FE])\n",
    "plt.xlabel('Energy Relative Error (%)')\n",
    "plt.ylabel('Wall Time (s)')\n",
    "plt.title('Wall Time vs Energy Relative Error')\n",
    "plt.grid(True)\n",
    "plt.legend()\n",
    "plt.subplot(1, 2, 2)\n",
    "plt.loglog(100*error_energy.T, wall_time.T, marker='o', label=[f\"h={hs}\" for hs in h_size])\n",
    "plt.xlabel('Energy Relative Error (%)')\n",
    "plt.ylabel('Wall Time (s)')\n",
    "plt.title('Wall Time vs Energy Relative Error')\n",
    "plt.grid(True)\n",
    "plt.legend()\n",
    "plt.tight_layout()\n",
    "plt.show()"
   ]
  },
  {
   "cell_type": "markdown",
   "metadata": {},
   "source": [
    "Write to a csv file the wall time and the RMS and energy errors"
   ]
  },
  {
   "cell_type": "code",
   "execution_count": 20,
   "metadata": {},
   "outputs": [],
   "source": [
    "# Write to a CSV file the errors computed with the RMS and energy norms\n",
    "import pandas as pd\n",
    "# Create a DataFrame with the errors and wall time\n",
    "df_errors = pd.DataFrame({\n",
    "    'Mesh Size (h)': np.tile(h_size, len(order_FE)),\n",
    "    'Order': np.repeat(order_FE, len(h_size)),\n",
    "    'RMS Error pressure': error_RMS_p.flatten(),\n",
    "    'RMS Error velocity': error_RMS_v.flatten(),\n",
    "    'Energy Error': error_energy.flatten(),\n",
    "    'Wall Time (s)': wall_time.flatten()\n",
    "})\n",
    "# Save the DataFrame to a CSV file\n",
    "df_errors.to_csv('H1-pressure-L2-velocity.csv', index=False)\n"
   ]
  },
  {
   "cell_type": "markdown",
   "metadata": {},
   "source": [
    "**Copyright**\n",
    "\n",
    "This notebook is provided as [Open Educational Resource](https://en.wikipedia.org/wiki/Open_educational_resources). Feel free to use the notebook for your own purposes. The text is licensed under [Creative Commons Attribution 4.0](https://creativecommons.org/licenses/by/4.0/), the code of the IPython examples under the [MIT license](https://opensource.org/licenses/MIT)."
   ]
  },
  {
   "cell_type": "code",
   "execution_count": null,
   "metadata": {},
   "outputs": [],
   "source": []
  }
 ],
 "metadata": {
  "kernelspec": {
   "display_name": "Python 3",
   "language": "python",
   "name": "python3"
  },
  "language_info": {
   "codemirror_mode": {
    "name": "ipython",
    "version": 3
   },
   "file_extension": ".py",
   "mimetype": "text/x-python",
   "name": "python",
   "nbconvert_exporter": "python",
   "pygments_lexer": "ipython3",
   "version": "3.12.3"
  }
 },
 "nbformat": 4,
 "nbformat_minor": 2
}
