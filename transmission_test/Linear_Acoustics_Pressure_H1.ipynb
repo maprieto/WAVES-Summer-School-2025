{
 "cells": [
  {
   "cell_type": "markdown",
   "metadata": {},
   "source": [
    "# WAVES Summer School 2025 (Gandia)"
   ]
  },
  {
   "cell_type": "markdown",
   "metadata": {},
   "source": [
    "This Jupyter Notebook has been designed to be run in [Google Colab](https://colab.research.google.com/). With this purpose the first cell install [NGSolve](https://ngsolve.org/) related packages in a clean machine (if they have not been previously installed). Typically, this installation takes less than 2 minutes."
   ]
  },
  {
   "cell_type": "code",
   "execution_count": null,
   "metadata": {},
   "outputs": [],
   "source": [
    "# Install NGSolve\n",
    "try:\n",
    "    import ngsolve\n",
    "except ImportError:\n",
    "    !wget \"https://fem-on-colab.github.io/releases/ngsolve-install-release-complex.sh\" -O \"/tmp/ngsolve-install.sh\" && bash \"/tmp/ngsolve-install.sh\""
   ]
  },
  {
   "cell_type": "markdown",
   "metadata": {},
   "source": [
    "## Linear Acoustics in the time-harmonic setting: Pressure formulation in $H^1$"
   ]
  },
  {
   "cell_type": "markdown",
   "metadata": {},
   "source": [
    "This notebook illustrates the numerical solution of the wave equation for harmonic excitation using the so called [Finite Element Method](https://jschoeberl.github.io/iFEM/intro.html) (FEM). The method aims at an approximate solution by subdividing the area of interest into smaller parts with simpler geometry, linking these parts together and applying methods from the calculus of variations to solve the problem numerically. The FEM is a well established method for the numerical approximation of the solution of partial differential equations (PDEs). The solutions of PDEs are often known analytically only for rather simple geometries. FEM based simulations allow to gain insights into other more complex cases."
   ]
  },
  {
   "cell_type": "markdown",
   "metadata": {},
   "source": [
    "## Variational Formulation\n",
    "\n",
    "The FEM is based on expressing the partial differential equation (PDE) to be solved in its variational or weak formulation."
   ]
  },
  {
   "cell_type": "markdown",
   "metadata": {},
   "source": [
    "## Numerical Solution\n",
    "\n",
    "The numerical solution of the variational problem is based on [NGSolve](https://ngsolve.org/), an open-source framework for numerical solution of PDEs.\n",
    "Its high-level Python interface is used in the following to define the problem and compute its solution.\n",
    "The implementation is based on the variational formulation derived above. The definition of the problem in NGsolve is very close to the mathematical formulation of the problem. A function `FEM_pressure(...)` is defined to analyze the convergence beahviour and the optimal strategy: $h$ or $p$-refinement."
   ]
  },
  {
   "cell_type": "code",
   "execution_count": null,
   "metadata": {},
   "outputs": [],
   "source": [
    "# Libraries \n",
    "import time\n",
    "import numpy as np\n",
    "from ngsolve import *\n",
    "from ngsolve.webgui import Draw\n",
    "from netgen.occ import *\n",
    "\n",
    "# Geometry\n",
    "L = 1.0\n",
    "\n",
    "# Primary geometric objects\n",
    "domain_down = Rectangle(L, L/2).Face()\n",
    "domain_up = MoveTo(0, L/2).Rectangle(L, L/2).Face()\n",
    "\n",
    "# Domain and boundary tags for the upper part\n",
    "domain_up.faces.name = \"up\"\n",
    "domain_up.faces.col = (0, 1, 0)  # Green color for faces\n",
    "domain_up.mat(\"up\")\n",
    "domain_up.edges.Min(X).name = \"left\"\n",
    "domain_up.edges.Min(X).col = (1, 0, 0) # magenta\n",
    "domain_up.edges.Max(Y).name = \"top\"\n",
    "domain_up.edges.Max(Y).col = (1, 0, 0) # magenta\n",
    "domain_up.edges.Max(X).name = \"right\"\n",
    "domain_up.edges.Max(X).col = (1, 0, 0) # magenta\n",
    "# Domain and boundary tags for the lower part\n",
    "domain_down.faces.name = \"down\"\n",
    "domain_down.faces.col = (0, 0, 1)  # Blue color for faces\n",
    "domain_down.mat(\"down\")\n",
    "domain_down.edges.Min(Y).name = \"bottom\"\n",
    "domain_down.edges.Min(Y).col = (1, 0, 0) # magenta\n",
    "domain_down.edges.Min(X).name = \"left\"\n",
    "domain_down.edges.Min(X).col = (1, 0, 0) # magenta\n",
    "domain_down.edges.Max(X).name = \"right\"\n",
    "domain_down.edges.Max(X).col = (1, 0, 0) # magenta\n",
    "\n",
    "# Create the domain\n",
    "domain = Glue([domain_up, domain_down])\n",
    "\n",
    "## Each edge is colored\n",
    "Draw(domain, height=\"3vh\")"
   ]
  },
  {
   "cell_type": "code",
   "execution_count": null,
   "metadata": {},
   "outputs": [],
   "source": [
    "# Define the mesh\n",
    "h_size = 0.05\n",
    "mesh = Mesh(OCCGeometry(domain, dim=2).GenerateMesh(maxh=h_size, quad_dominated=False))\n",
    "Draw(mesh, height=\"3vh\")"
   ]
  },
  {
   "cell_type": "markdown",
   "metadata": {},
   "source": [
    "Exact solution and boundary data for getting a solution in closed form"
   ]
  },
  {
   "cell_type": "code",
   "execution_count": null,
   "metadata": {},
   "outputs": [],
   "source": [
    "# Physical parameters\n",
    "f = 500 # Frequency in Hz\n",
    "rho1 = 1.0 # Density in kg/m^3 (inner)\n",
    "rho2 = 0.5 # Density in kg/m^3 (outer)\n",
    "c1 = 343.0 # Speed of sound in m/s\n",
    "c2 = 300.0 # Speed of sound in m/s\n",
    "# Coefficients for mass and sound speed\n",
    "rho = mesh.MaterialCF({'up': rho1,  'down': rho2})\n",
    "c = mesh.MaterialCF({'up': c1,  'down': c2})\n",
    "\n",
    "# Pressure: plane wave solution at oblique incidence\n",
    "theta = np.pi/4  # Angle of incidence in radians\n",
    "omega = 2*np.pi*f # Angular frequency\n",
    "\n",
    "# Wavenumbers\n",
    "k1x = omega/c1*np.sin(theta)  # x-component of the wave vector\n",
    "k1y = omega/c1*np.cos(theta)  # y-component of the wave vector\n",
    "k2y = np.sqrt((omega/c2)**2 - k1x**2)  # y-component of the wave vector in the down domain\n",
    "\n",
    "# Surface impedance between the two domains\n",
    "Z1 = rho1*c1/np.cos(theta)  # Acoustic impedance in the up domain\n",
    "Z2 = rho2*c2*(omega/c2)/k2y  # Acoustic impedance in the down domain\n",
    "R = (Z2-Z1)/(Z1+Z2) # reflection coefficient\n",
    "T = 2*Z2/(Z1+Z2) # transmission coefficient\n",
    "\n",
    "# Pressure field in the entire domain\n",
    "pex1 = 1.0*exp(1j*(-k1x*x-k1y*(y-L/2))) + R*exp(1j*(-k1x*x+k1y*(y-L/2))) # pressure in the up domain\n",
    "pex2 = T*exp(1j*(-k1x*x-k2y*(y-L/2))) # pressure in the down domain\n",
    "pex = IfPos(y - L/2, pex1, pex2)\n",
    "\n",
    "# Gradient of the exact pressure field\n",
    "grad_pex1 = 1j*(CF((-k1x,-k1y))*exp(1j*(-k1x*x-k1y*(y-L/2))) + CF((-k1x,k1y))*R*exp(1j*(-k1x*x+k1y*(y-L/2))))  # displacement in the up domain\n",
    "grad_pex2 = 1j*CF((-k1x,-k2y))*T*exp(1j*(-k1x*x-k2y*(y-L/2))) # displacement in the down domain\n",
    "grad_pex = mesh.MaterialCF({'up': grad_pex1,  'down': grad_pex2})\n",
    "\n",
    "# Displacement field in the entire domain\n",
    "uex1 = 1/(omega**2*rho1)*grad_pex1  # displacement in the up domain\n",
    "uex2 = 1/(omega**2*rho2)*grad_pex2  # displacement in the down domain\n",
    "uex = mesh.MaterialCF({'up': uex1,  'down': uex2})\n",
    "\n",
    "\n",
    "# Plot the exact solution\n",
    "Draw(pex, mesh, height=\"3vh\", animate_complex=True, settings = {\"Colormap\": {\"ncolors\": 20}})\n",
    "Draw(uex[0], mesh, height=\"3vh\", animate_complex=True, settings = {\"Colormap\": {\"ncolors\": 20}})\n",
    "Draw(uex[1], mesh, height=\"3vh\", animate_complex=True, settings = {\"Colormap\": {\"ncolors\": 20}})\n",
    "\n",
    "# Boundary data for the pressure in the interior boundary\n",
    "p_bnd = pex"
   ]
  },
  {
   "cell_type": "markdown",
   "metadata": {},
   "source": [
    "### Finite element computation using scalar-valued Lagrange elements"
   ]
  },
  {
   "cell_type": "code",
   "execution_count": null,
   "metadata": {},
   "outputs": [],
   "source": [
    "# Compute the Finite Element approximation\n",
    "def FEM_pressure(mesh, order_FE, f, rho, c, p_bnd):\n",
    "\n",
    "    # Angular frequency\n",
    "    omega= 2*np.pi*f\n",
    "\n",
    "    # Lagrange finite element with complex values to approximate the pressure field\n",
    "    Q = H1(mesh, order=order_FE, complex=True, dirichlet = \"top|bottom|left|right\")\n",
    "\n",
    "    # Trial and test functions\n",
    "    p, q = Q.TnT()\n",
    "\n",
    "    # Variational formulation: Bilinear form\n",
    "    a_bilinear = BilinearForm(Q, symmetric=False)\n",
    "\n",
    "    # Contribution in the air and the impedance boundary\n",
    "    a_bilinear += 1.0/rho*grad(p)*grad(q)*dx - omega**2/(rho*c**2)*p*q*dx\n",
    "\n",
    "    # Linear form\n",
    "    f_linear = LinearForm(Q)\n",
    "\n",
    "    # Assembly the FEM matrices and the right-hand side\n",
    "    a_bilinear.Assemble()\n",
    "    f_linear.Assemble()\n",
    "\n",
    "    # Allocate the solution vector with the prescribed Dirichlet boundary conditions\n",
    "    gfp = GridFunction(Q)\n",
    "    gfp.Set(p_bnd, definedon=mesh.Boundaries(\"top|bottom|left|right\"))\n",
    "\n",
    "    # Solve the linear system\n",
    "    precond = Preconditioner(a_bilinear,\"direct\") # sparse direct solver (UMFPACK)\n",
    "    solvers.BVP(bf=a_bilinear, lf=f_linear, gf=gfp, pre=precond, print=False)\n",
    "\n",
    "    return gfp, Q"
   ]
  },
  {
   "cell_type": "markdown",
   "metadata": {},
   "source": [
    "Function to compute the RMS errors and the errors associated with the acoustic energy of the system"
   ]
  },
  {
   "cell_type": "code",
   "execution_count": null,
   "metadata": {},
   "outputs": [],
   "source": [
    "# Compute the root-mean square (RMS) relative error\n",
    "def compute_error(rho, c, gfp, pex, grad_pex, Q):\n",
    "\n",
    "    # RMS of the exact solution (pressure)\n",
    "    RMS_p_ex = sqrt(Integrate(1.0/(rho*c**2)*InnerProduct(pex, pex), Q.mesh, order=2*Q.globalorder))\n",
    "\n",
    "    # RMS absolute error between the exact and the Finite Element approximation (pressure)\n",
    "    error_RMS_p = sqrt(Integrate(1.0/(rho*c**2)*InnerProduct(gfp-pex, gfp-pex), Q.mesh, order=2*Q.globalorder))\n",
    "\n",
    "    # RMS of the exact solution (velocity)\n",
    "    RMS_v_ex = sqrt(Integrate(1.0/rho/omega**2*InnerProduct(grad_pex, grad_pex), Q.mesh, order=2*Q.globalorder))\n",
    "\n",
    "    # RMS absolute error between the exact and the Finite Element approximation (velocity)\n",
    "    error_RMS_v = sqrt(Integrate( 1.0/rho/omega**2*InnerProduct(grad(gfp)-grad_pex, grad(gfp)-grad_pex), Q.mesh, order=2*Q.globalorder))\n",
    "\n",
    "    # Energy associated to the exact solution\n",
    "    energy_ex = sqrt(RMS_p_ex**2 + RMS_v_ex**2)\n",
    "\n",
    "    # Energy error\n",
    "    error_energy = sqrt(error_RMS_p**2 + error_RMS_v**2)\n",
    "\n",
    "    return error_RMS_p.real/RMS_p_ex.real, error_RMS_v.real/RMS_v_ex.real, error_energy.real/energy_ex.real"
   ]
  },
  {
   "cell_type": "markdown",
   "metadata": {},
   "source": [
    "### Study of convergence\n",
    "\n",
    "Let's check the order of convergence of this finite element discretization computing the error for sucesive refinements of the mesh"
   ]
  },
  {
   "cell_type": "code",
   "execution_count": null,
   "metadata": {},
   "outputs": [],
   "source": [
    "# Finite element order\n",
    "order_FE = np.arange(1, 5)  # Orders from 1 to 4\n",
    "h_size = np.array([0.4, 0.2, 0.1, 0.05])  # Mesh sizes\n",
    "\n",
    "# Compute the Finite Element approximation and the error for different mesh sizes and orders\n",
    "error_RMS_p = np.zeros((len(h_size), len(order_FE)))\n",
    "error_RMS_v = np.zeros((len(h_size), len(order_FE)))\n",
    "error_energy = np.zeros((len(h_size), len(order_FE)))\n",
    "wall_time = np.zeros((len(h_size), len(order_FE)))\n",
    "\n",
    "# Loop over mesh sizes and finite element orders\n",
    "for i, hs in enumerate(h_size):\n",
    "    mesh = Mesh(OCCGeometry(domain, dim=2).GenerateMesh(maxh=hs, quad_dominated=False))\n",
    "    for j, order in enumerate(order_FE):\n",
    "        mesh.Curve(int(order))\n",
    "        start_wall = time.time()\n",
    "        gfp, Q = FEM_pressure(mesh, int(order), f, rho, c, p_bnd)\n",
    "        wall_time[i, j] = time.time() - start_wall\n",
    "        error_RMS_p[i, j], error_RMS_v[i, j], error_energy[i, j] = compute_error(rho, c, gfp, pex, grad_pex, Q)\n",
    "        # Print the errors\n",
    "        print(f\"Order {order}, Mesh size {hs}: RMS Error (Pressure) = {error_RMS_p[i, j]:.4e}, RMS Error (Velocity) = {error_RMS_v[i, j]:.4e}, Energy Error = {error_energy[i, j]:.4e}\")\n",
    "\n",
    "# Plot last pressure field computed\n",
    "Draw(gfp, mesh, height=\"3vh\", animate_complex=True, settings = {\"Colormap\": {\"ncolors\": 20}})"
   ]
  },
  {
   "cell_type": "markdown",
   "metadata": {},
   "source": [
    "Compute the order of convergence of the FEM discretizations"
   ]
  },
  {
   "cell_type": "code",
   "execution_count": null,
   "metadata": {},
   "outputs": [],
   "source": [
    "# Get order of convergence for each order_FE\n",
    "for j, order in enumerate(order_FE):\n",
    "    mRMS_p, _ = np.polyfit(np.log(h_size[1:]), np.log(error_RMS_p[1:, j]), 1)\n",
    "    mRMS_v, _ = np.polyfit(np.log(h_size[1:]), np.log(error_RMS_v[1:, j]), 1)\n",
    "    print(f\"Order {order}: RMS Error convergence rate (pressure) = {mRMS_p:.1f}, RMS Error convergence rate (velocity) = {mRMS_v:.1f}\")\n",
    "    mEnergy, _ = np.polyfit(np.log(h_size[1:]), np.log(error_energy[1:, j]), 1)\n",
    "    print(f\"Order {order}: Energy Error convergence rate = {mEnergy:.1f}\")"
   ]
  },
  {
   "cell_type": "markdown",
   "metadata": {},
   "source": [
    "Check the numerical errors and observe the FEM convergence"
   ]
  },
  {
   "cell_type": "code",
   "execution_count": null,
   "metadata": {},
   "outputs": [],
   "source": [
    "# Plot the convergence results with tag the order in the legend\n",
    "import matplotlib.pyplot as plt\n",
    "plt.figure(figsize=(15, 5))\n",
    "plt.subplot(1, 3, 1)\n",
    "plt.loglog(h_size*f/c1.real, 100*error_RMS_p, marker='o', label=[f\"Order {order}\" for order in order_FE])\n",
    "plt.xlabel('h/λ')\n",
    "plt.ylabel('RMS Rel. Error (%)')\n",
    "plt.title('RMS Rel. Error (Pressure) vs h/λ')\n",
    "plt.grid(True)\n",
    "plt.legend()\n",
    "plt.subplot(1, 3, 2)\n",
    "plt.loglog(h_size*f/c1.real, 100*error_RMS_v, marker='o', label=[f\"Order {order}\" for order in order_FE])\n",
    "plt.xlabel('h/λ')\n",
    "plt.ylabel('RMS Rel. Error (%)')\n",
    "plt.title('RMS Rel. Error (Velocity) vs h/λ')\n",
    "plt.grid(True)\n",
    "plt.legend()\n",
    "plt.subplot(1, 3, 3)\n",
    "plt.loglog(h_size*f/c1.real, 100*error_energy, marker='o', label=[f\"Order {order}\" for order in order_FE])\n",
    "plt.xlabel('h/λ')\n",
    "plt.ylabel('Energy Rel. Error (%)')\n",
    "plt.title('Energy Rel. Error vs h/λ')\n",
    "plt.grid(True)\n",
    "plt.legend()\n",
    "plt.tight_layout()\n",
    "plt.show()\n",
    "\n"
   ]
  },
  {
   "cell_type": "markdown",
   "metadata": {},
   "source": [
    "Checking the optimal strategy: refine the mesh or increasing the FE order?"
   ]
  },
  {
   "cell_type": "code",
   "execution_count": null,
   "metadata": {},
   "outputs": [],
   "source": [
    "# Plot the CPU and wall time vs energy relative error with tag the order in the legend\n",
    "plt.figure(figsize=(10, 5))\n",
    "plt.subplot(1, 2, 1)\n",
    "plt.loglog(100*error_energy, wall_time, marker='o', label=[f\"Order {order}\" for order in order_FE])\n",
    "plt.xlabel('Energy Relative Error (%)')\n",
    "plt.ylabel('CPU Time (s)')\n",
    "plt.title('CPU Time vs Energy Relative Error')\n",
    "plt.grid(True)\n",
    "plt.legend()\n",
    "plt.subplot(1, 2, 2)\n",
    "plt.loglog(100*error_energy.T, wall_time.T, marker='o', label=[f\"h={hs}\" for hs in h_size])\n",
    "plt.xlabel('Energy Relative Error (%)')\n",
    "plt.ylabel('CPU Time (s)')\n",
    "plt.title('CPU Time vs Energy Relative Error')\n",
    "plt.grid(True)\n",
    "plt.legend()\n",
    "plt.tight_layout()\n",
    "plt.show()"
   ]
  },
  {
   "cell_type": "markdown",
   "metadata": {},
   "source": [
    "Write to a csv file the wall time and the RMS and energy errors"
   ]
  },
  {
   "cell_type": "code",
   "execution_count": null,
   "metadata": {},
   "outputs": [],
   "source": [
    "# Write to a CSV file the errors computed with the RMS and energy norms\n",
    "import pandas as pd\n",
    "# Create a DataFrame with the errors and wall time\n",
    "df_errors = pd.DataFrame({\n",
    "    'Mesh Size (h)': np.tile(h_size, len(order_FE)),\n",
    "    'Order': np.repeat(order_FE, len(h_size)),\n",
    "    'RMS Error pressure': error_RMS_p.flatten(),\n",
    "    'RMS Error velocity': error_RMS_v.flatten(),\n",
    "    'Energy Error': error_energy.flatten(),\n",
    "    'Wall Time (s)': wall_time.flatten()\n",
    "})\n",
    "# Save the DataFrame to a CSV file\n",
    "df_errors.to_csv('H1-pressure.csv', index=False)\n"
   ]
  },
  {
   "cell_type": "markdown",
   "metadata": {},
   "source": [
    "**Copyright**\n",
    "\n",
    "This notebook is provided as [Open Educational Resource](https://en.wikipedia.org/wiki/Open_educational_resources). Feel free to use the notebook for your own purposes. The text is licensed under [Creative Commons Attribution 4.0](https://creativecommons.org/licenses/by/4.0/), the code of the IPython examples under the [MIT license](https://opensource.org/licenses/MIT)."
   ]
  }
 ],
 "metadata": {
  "kernelspec": {
   "display_name": "Python 3",
   "language": "python",
   "name": "python3"
  },
  "language_info": {
   "codemirror_mode": {
    "name": "ipython",
    "version": 3
   },
   "file_extension": ".py",
   "mimetype": "text/x-python",
   "name": "python",
   "nbconvert_exporter": "python",
   "pygments_lexer": "ipython3",
   "version": "3.12.3"
  }
 },
 "nbformat": 4,
 "nbformat_minor": 2
}
